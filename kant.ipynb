{
 "nbformat": 4,
 "nbformat_minor": 2,
 "metadata": {
  "language_info": {
   "name": "python",
   "codemirror_mode": {
    "name": "ipython",
    "version": 3
   },
   "version": "3.6.9-final"
  },
  "orig_nbformat": 2,
  "file_extension": ".py",
  "mimetype": "text/x-python",
  "name": "python",
  "npconvert_exporter": "python",
  "pygments_lexer": "ipython3",
  "version": 3,
  "kernelspec": {
   "name": "python36964bitpythondataconda8971416e9bae4e8197b8a061b72f9dc8",
   "display_name": "Python 3.6.9 64-bit ('PythonData': conda)"
  }
 },
 "cells": [
  {
   "cell_type": "code",
   "execution_count": 1,
   "metadata": {},
   "outputs": [
    {
     "output_type": "stream",
     "name": "stdout",
     "text": "[('reason', 1174), ('conception', 916), ('experience', 819), ('time', 720), ('object', 717), ('conceptions', 699), ('pure', 697), ('understanding', 682), ('intuition', 628), ('empirical', 600), ('possible', 593), ('phenomena', 584), ('priori', 580), ('existence', 574), ('given', 516), ('cognition', 510), ('transcendental', 509), ('unity', 495), ('objects', 484), ('nature', 474), ('merely', 451), ('things', 425), ('necessary', 395), ('relation', 392), ('conditions', 389), ('space', 379), ('means', 369), ('world', 365), ('consequently', 353), ('principles', 352), ('principle', 337), ('idea', 332), ('condition', 331), ('possibility', 325), ('series', 325), ('mere', 324), ('general', 320), ('case', 309), ('cause', 307), ('thing', 297), ('does', 292), ('synthesis', 291), ('thought', 291), ('form', 290), ('subject', 277), ('according', 275), ('far', 264), ('sense', 259), ('proposition', 239), ('sensuous', 239), ('reality', 232), ('representation', 231), ('say', 231), ('certain', 228), ('laws', 224), ('synthetical', 223), ('knowledge', 220), ('sphere', 213), ('judgement', 210), ('regard', 203), ('faculty', 202), ('internal', 197), ('phenomenon', 192), ('objective', 190), ('representations', 188), ('different', 187), ('question', 185), ('present', 182), ('exist', 181), ('use', 180), ('ideas', 174), ('necessity', 174), ('categories', 170), ('place', 169), ('determined', 167), ('manifold', 167), ('absolute', 164), ('complete', 164), ('absolutely', 162), ('consciousness', 161), ('mode', 160), ('perception', 158), ('substance', 157), ('determination', 156), ('external', 156), ('real', 154), ('connection', 153), ('science', 151), ('example', 150), ('shall', 149), ('order', 147), ('impossible', 145), ('quantity', 145), ('mind', 142), ('philosophy', 141), ('contains', 139), ('law', 139), ('natural', 139), ('parts', 138), ('state', 138)]\n"
    }
   ],
   "source": [
    "import io\n",
    "from collections import Counter\n",
    "\n",
    "import numpy as np\n",
    "from sklearn.feature_extraction.text import CountVectorizer\n",
    "\n",
    "infile = 'kanttext/purereason.txt'\n",
    "\n",
    "ngram_vectorizer = CountVectorizer(analyzer='word', \n",
    "                                    ngram_range=(1, 1), \n",
    "                                    min_df=1,\n",
    "                                    stop_words='english')\n",
    "\n",
    "with io.open(infile, 'r', encoding='utf8') as fin:\n",
    "    X = ngram_vectorizer.fit_transform(fin)\n",
    "    vocab = ngram_vectorizer.get_feature_names()\n",
    "    counts = X.sum(axis=0).A1\n",
    "    freq_distribution = Counter(dict(zip(vocab, counts)))\n",
    "    purereason = freq_distribution.most_common(100)\n"
   ]
  },
  {
   "cell_type": "code",
   "execution_count": null,
   "metadata": {},
   "outputs": [],
   "source": [
    "def "
   ]
  },
  {
   "cell_type": "code",
   "execution_count": 2,
   "metadata": {},
   "outputs": [
    {
     "output_type": "stream",
     "name": "stdout",
     "text": "[('reason', 609), ('law', 517), ('practical', 476), ('moral', 338), ('pure', 313), ('principle', 234), ('object', 174), ('world', 142), ('freedom', 140), ('principles', 140), ('nature', 138), ('possible', 127), ('determining', 122), ('respect', 122), ('existence', 121), ('good', 121), ('happiness', 118), ('causality', 116), ('rational', 113), ('use', 112), ('man', 110), ('knowledge', 106), ('priori', 106), ('merely', 104), ('feeling', 100), ('duty', 99), ('laws', 99), ('case', 98), ('summum', 98), ('time', 98), ('bonum', 97), ('paragraph', 95), ('action', 94), ('objects', 94), ('gutenberg', 93), ('speculative', 93), ('condition', 92), ('far', 88), ('order', 87), ('project', 87), ('means', 86), ('necessary', 86), ('objective', 86), ('notion', 85), ('possibility', 85), ('make', 84), ('morality', 82), ('sense', 82), ('consequently', 81), ('sensible', 81), ('subject', 78), ('faculty', 77), ('determination', 76), ('does', 76), ('self', 76), ('concept', 75), ('conception', 75), ('things', 75), ('actions', 72), ('desire', 71), ('pleasure', 69), ('empirical', 68), ('form', 68), ('given', 68), ('supreme', 68), ('consciousness', 67), ('theoretical', 66), ('god', 65), ('necessity', 63), ('cause', 62), ('understanding', 61), ('physical', 60), ('beings', 59), ('conditions', 59), ('experience', 59), ('maxim', 59), ('reality', 59), ('universal', 59), ('quite', 58), ('called', 57), ('effect', 57), ('foundation', 57), ('tm', 57), ('according', 56), ('determined', 56), ('maxims', 56), ('virtue', 56), ('work', 56), ('fact', 55), ('book_1', 54), ('mere', 53), ('supersensible', 53), ('thing', 53), ('intuition', 51), ('subjective', 51), ('view', 51), ('free', 50), ('regard', 50), ('idea', 49), ('love', 49)]\n"
    }
   ],
   "source": [
    "infile = 'kanttext/practicalreason.txt'\n",
    "\n",
    "ngram_vectorizer = CountVectorizer(analyzer='word', \n",
    "                                    ngram_range=(1, 1), \n",
    "                                    min_df=1,\n",
    "                                    stop_words='english')\n",
    "\n",
    "with io.open(infile, 'r', encoding='utf8') as fin:\n",
    "    X = ngram_vectorizer.fit_transform(fin)\n",
    "    vocab = ngram_vectorizer.get_feature_names()\n",
    "    counts = X.sum(axis=0).A1\n",
    "    freq_distribution = Counter(dict(zip(vocab, counts)))\n",
    "    practicalreason = freq_distribution.most_common(100)\n",
    "    print(practicalreason)"
   ]
  },
  {
   "cell_type": "code",
   "execution_count": 3,
   "metadata": {},
   "outputs": [],
   "source": [
    "infile = 'kanttext/metaphysicsofmorals.txt'\n",
    "\n",
    "ngram_vectorizer = CountVectorizer(analyzer='word', \n",
    "                                    ngram_range=(1, 1), \n",
    "                                    min_df=1,\n",
    "                                    stop_words='english')\n",
    "\n",
    "with io.open(infile, 'r', encoding='utf8') as fin:\n",
    "    X = ngram_vectorizer.fit_transform(fin)\n",
    "    vocab = ngram_vectorizer.get_feature_names()\n",
    "    counts = X.sum(axis=0).A1\n",
    "    freq_distribution = Counter(dict(zip(vocab, counts)))\n",
    "    morals = freq_distribution.most_common(100)"
   ]
  },
  {
   "cell_type": "code",
   "execution_count": 4,
   "metadata": {},
   "outputs": [
    {
     "output_type": "stream",
     "name": "stdout",
     "text": "{('project', 87), ('universal', 59), ('object', 717), ('principles', 352), ('called', 57), ('objective', 190), ('philosophy', 49), ('value', 23), ('sphere', 213), ('conditions', 59), ('law', 174), ('just', 34), ('idea', 332), ('substance', 157), ('moral', 338), ('action', 94), ('say', 31), ('inclinations', 28), ('simply', 22), ('place', 169), ('shall', 149), ('representations', 188), ('does', 76), ('beings', 59), ('pure', 313), ('nature', 138), ('moral', 90), ('ends', 61), ('means', 86), ('priori', 37), ('nature', 474), ('summum', 98), ('determined', 56), ('form', 68), ('subject', 277), ('parts', 138), ('does', 55), ('different', 187), ('object', 174), ('maxim', 51), ('happiness', 44), ('consciousness', 67), ('necessary', 86), ('means', 61), ('internal', 197), ('things', 22), ('quantity', 145), ('ebook', 34), ('respect', 122), ('conception', 916), ('knowledge', 32), ('intuition', 51), ('regard', 203), ('common', 30), ('merely', 104), ('cause', 62), ('necessarily', 25), ('human', 35), ('consciousness', 161), ('world', 72), ('subject', 55), ('man', 53), ('world', 142), ('men', 28), ('far', 39), ('pleasure', 69), ('end', 83), ('consequently', 353), ('complete', 164), ('objects', 94), ('gutenberg', 93), ('determined', 167), ('maxims', 56), ('worth', 48), ('means', 369), ('use', 112), ('book_1', 54), ('mere', 53), ('understanding', 682), ('love', 49), ('thought', 291), ('external', 156), ('experience', 819), ('real', 154), ('space', 379), ('understanding', 61), ('general', 320), ('phenomenon', 192), ('man', 110), ('law', 139), ('freedom', 140), ('determining', 122), ('order', 87), ('certain', 228), ('cause', 307), ('conception', 75), ('case', 50), ('reality', 232), ('metaphysic', 32), ('practical', 118), ('principle', 234), ('pure', 697), ('conditions', 389), ('experience', 59), ('conceptions', 699), ('state', 138), ('conception', 56), ('things', 75), ('project', 39), ('order', 36), ('morals', 33), ('objective', 33), ('regard', 26), ('duty', 84), ('question', 23), ('empirical', 38), ('view', 33), ('universal', 83), ('cognition', 510), ('mind', 142), ('empirical', 600), ('determination', 76), ('series', 325), ('good', 91), ('respect', 47), ('according', 27), ('synthetical', 223), ('possible', 75), ('use', 180), ('principles', 62), ('sense', 82), ('causality', 23), ('priori', 106), ('god', 65), ('actions', 72), ('fact', 55), ('imperatives', 23), ('called', 37), ('judgement', 210), ('existence', 121), ('according', 275), ('condition', 331), ('sensuous', 239), ('does', 292), ('morality', 55), ('condition', 42), ('example', 150), ('absolute', 164), ('virtue', 56), ('effect', 26), ('representation', 231), ('thing', 24), ('quite', 58), ('ideas', 174), ('categories', 170), ('imperative', 71), ('present', 182), ('sense', 259), ('according', 56), ('synthesis', 291), ('absolutely', 162), ('possibility', 85), ('possible', 127), ('objective', 86), ('laws', 224), ('subjective', 25), ('general', 35), ('self', 76), ('mere', 324), ('practical', 476), ('tm', 57), ('kingdom', 33), ('possible', 593), ('unity', 495), ('contains', 139), ('autonomy', 26), ('certain', 26), ('faculty', 202), ('impossible', 145), ('free', 50), ('consequently', 28), ('sense', 39), ('perception', 158), ('supreme', 68), ('determination', 156), ('given', 68), ('world', 365), ('say', 231), ('maxim', 59), ('thing', 297), ('case', 98), ('self', 24), ('regard', 50), ('knowledge', 106), ('beings', 51), ('merely', 50), ('exist', 181), ('relation', 392), ('mere', 32), ('desire', 71), ('foundation', 20), ('form', 290), ('supreme', 27), ('view', 51), ('necessary', 47), ('make', 42), ('supersensible', 53), ('time', 98), ('bonum', 97), ('principles', 140), ('happiness', 118), ('faculty', 77), ('inclination', 43), ('question', 185), ('pure', 64), ('ought', 30), ('phenomena', 584), ('knowledge', 220), ('far', 88), ('intuition', 628), ('objects', 20), ('condition', 92), ('natural', 139), ('existence', 574), ('experience', 40), ('reason', 1174), ('objects', 484), ('paragraph', 95), ('action', 89), ('feeling', 100), ('effect', 57), ('principle', 337), ('know', 22), ('time', 720), ('categorical', 42), ('rational', 133), ('physical', 60), ('work', 56), ('idea', 49), ('empirical', 68), ('absolutely', 20), ('speculative', 93), ('form', 26), ('necessity', 63), ('good', 121), ('kind', 20), ('act', 35), ('consequently', 81), ('maxims', 41), ('priori', 580), ('philosophy', 141), ('law', 517), ('proposition', 239), ('understanding', 40), ('freedom', 64), ('idea', 62), ('sensible', 81), ('actions', 64), ('rational', 113), ('subject', 78), ('science', 151), ('reason', 210), ('subjective', 51), ('principle', 135), ('time', 36), ('things', 425), ('necessity', 47), ('transcendental', 509), ('manifold', 167), ('far', 264), ('order', 147), ('use', 25), ('conceive', 21), ('causality', 116), ('reality', 59), ('foundation', 57), ('object', 41), ('way', 24), ('possibility', 325), ('nature', 115), ('morality', 82), ('theoretical', 66), ('necessary', 395), ('necessity', 174), ('reason', 609), ('make', 84), ('gutenberg', 38), ('laws', 116), ('case', 309), ('given', 516), ('thing', 53), ('concept', 75), ('laws', 99), ('merely', 451), ('connection', 153), ('notion', 85), ('free', 30), ('mode', 160), ('duty', 99), ('purpose', 34)}\n"
    }
   ],
   "source": [
    "total_words = set(purereason + practicalreason + morals)\n",
    "len(total_words)\n",
    "print(total_words)\n",
    "\n",
    ""
   ]
  },
  {
   "cell_type": "code",
   "execution_count": 13,
   "metadata": {},
   "outputs": [],
   "source": [
    "def format_tuple(input_tuple):\n",
    "    dict_entry = { 'text': input_tuple[0],\n",
    "                    'value': str(input_tuple[1])}\n",
    "    return dict_entry"
   ]
  },
  {
   "cell_type": "code",
   "execution_count": 14,
   "metadata": {},
   "outputs": [],
   "source": [
    "purereason_dictlist = [format_tuple(item) for item in purereason ]\n",
    "practicalreason_dictlist = [format_tuple(item) for item in practicalreason ]\n",
    "morals_dictlist = [format_tuple(item) for item in morals ]"
   ]
  },
  {
   "cell_type": "code",
   "execution_count": 15,
   "metadata": {},
   "outputs": [],
   "source": [
    "import json\n",
    "json_file = { 'Kant: Critique of Pure Reason': purereason_dictlist,\n",
    "              'Kant: Critique of Practical Reason':practicalreason_dictlist,\n",
    "              'Kant: Grounding for a Metaphysics of Morals':morals_dictlist}\n",
    "\n",
    "with open('kant.json', 'w', encoding='UTF-8') as f:\n",
    "    json.dump(json_file,f,ensure_ascii=False, indent=4)\n"
   ]
  },
  {
   "cell_type": "code",
   "execution_count": null,
   "metadata": {},
   "outputs": [],
   "source": []
  }
 ]
}